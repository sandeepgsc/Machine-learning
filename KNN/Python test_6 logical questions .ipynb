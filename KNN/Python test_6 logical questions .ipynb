{
 "cells": [
  {
   "cell_type": "markdown",
   "metadata": {},
   "source": [
    "## Question 1"
   ]
  },
  {
   "cell_type": "raw",
   "metadata": {},
   "source": [
    "Take two integer numbers and return their product. If the product is greater than 1000, then return their sum if product is less than 1000 return product value only ."
   ]
  },
  {
   "cell_type": "code",
   "execution_count": 3,
   "metadata": {},
   "outputs": [
    {
     "name": "stdout",
     "output_type": "stream",
     "text": [
      "Enter the First Number = 400\n",
      "Enter the second Number = 1\n",
      "400\n"
     ]
    }
   ],
   "source": [
    "def fun(a,b):\n",
    "    c = a * b\n",
    "    if c > 1000:\n",
    "        return a + b\n",
    "    elif c < 1000:\n",
    "        return c\n",
    "    \n",
    "    \n",
    "\n",
    "a = int(input(\"Enter the First Number = \"))\n",
    "b = int(input(\"Enter the second Number = \"))\n",
    "result = fun(a,b)\n",
    "print(result)"
   ]
  },
  {
   "cell_type": "markdown",
   "metadata": {},
   "source": [
    "## question 2 "
   ]
  },
  {
   "cell_type": "raw",
   "metadata": {},
   "source": [
    "Given a range of the first 10 numbers, Iterate from the start number to the end number, and In each iteration print the sum of the current number and previous number\n",
    "\n",
    "Expected output:\n",
    "-----------------\n",
    "Printing current and previous number sum in a range(10)\n",
    "Current Number 0 Previous Number  0  Sum:  0\n",
    "Current Number 1 Previous Number  0  Sum:  1\n",
    "Current Number 2 Previous Number  1  Sum:  3\n",
    "Current Number 3 Previous Number  2  Sum:  5\n",
    "Current Number 4 Previous Number  3  Sum:  7\n",
    "Current Number 5 Previous Number  4  Sum:  9\n",
    "Current Number 6 Previous Number  5  Sum:  11\n",
    "Current Number 7 Previous Number  6  Sum:  13\n",
    "Current Number 8 Previous Number  7  Sum:  15\n",
    "Current Number 9 Previous Number  8  Sum:  17"
   ]
  },
  {
   "cell_type": "code",
   "execution_count": 9,
   "metadata": {},
   "outputs": [
    {
     "name": "stdout",
     "output_type": "stream",
     "text": [
      "current number  0  previous number  0  sum  0\n",
      "current number  1  previous number  0  sum  1\n",
      "current number  2  previous number  1  sum  3\n",
      "current number  3  previous number  2  sum  5\n",
      "current number  4  previous number  3  sum  7\n",
      "current number  5  previous number  4  sum  9\n",
      "current number  6  previous number  5  sum  11\n",
      "current number  7  previous number  6  sum  13\n",
      "current number  8  previous number  7  sum  15\n",
      "current number  9  previous number  8  sum  17\n"
     ]
    }
   ],
   "source": [
    "a = 0\n",
    "for i in range(10):\n",
    "    sum = a + i    # 0 + 0\n",
    "    print(\"current number \",i,\" previous number \",a,\" sum \",sum)\n",
    "    a = i\n",
    "    "
   ]
  },
  {
   "cell_type": "markdown",
   "metadata": {},
   "source": [
    "## question 3 "
   ]
  },
  {
   "cell_type": "raw",
   "metadata": {},
   "source": [
    "Given a string and an integer number n, remove characters from a string starting from zero up to n and return a new string\n",
    "\n",
    "Example :\n",
    "(\"pynative\", 4) so output must be tive.\n",
    "\n",
    "Note: n must be less than the length of the string."
   ]
  },
  {
   "cell_type": "code",
   "execution_count": 10,
   "metadata": {},
   "outputs": [
    {
     "data": {
      "text/plain": [
       "' science'"
      ]
     },
     "execution_count": 10,
     "metadata": {},
     "output_type": "execute_result"
    }
   ],
   "source": [
    "a = 'data science'\n",
    "a[4:]"
   ]
  },
  {
   "cell_type": "code",
   "execution_count": 12,
   "metadata": {},
   "outputs": [
    {
     "name": "stdout",
     "output_type": "stream",
     "text": [
      "enter the number = 2\n",
      "native\n"
     ]
    }
   ],
   "source": [
    "def fun(a,n):\n",
    "    c = a[n:]\n",
    "    return c\n",
    "\n",
    "\n",
    "a = 'pynative'\n",
    "n = int(input(\"enter the number = \"))\n",
    "result = fun(a,n)\n",
    "print(result)"
   ]
  },
  {
   "cell_type": "markdown",
   "metadata": {},
   "source": [
    "## question 4"
   ]
  },
  {
   "cell_type": "raw",
   "metadata": {},
   "source": [
    "Given a list of numbers, return True if first and last number of a list is same\n",
    "\n",
    "Expected Output:\n",
    "-------------------------------------\n",
    "\n",
    "Given list is \n",
    "a =  [10, 20, 30, 40, 10]\n",
    "b = [10 , 20 , 30 , 40, 10 ]\n",
    "result is True\n",
    "\n",
    "Given list is  \n",
    "a = [10, 20, 30, 40, 50]\n",
    "b = [11 , 21 , 31 , 41 , 51 ] \n",
    "result is False"
   ]
  },
  {
   "cell_type": "code",
   "execution_count": 15,
   "metadata": {},
   "outputs": [
    {
     "name": "stdout",
     "output_type": "stream",
     "text": [
      "True\n"
     ]
    }
   ],
   "source": [
    "def fun(a):\n",
    "    first = a[0]\n",
    "    last = a[-1]\n",
    "    if first == last:\n",
    "        return True\n",
    "    else:\n",
    "        return False\n",
    "    \n",
    "    \n",
    "a =  [10, 20, 30, 40, 10]\n",
    "result = fun(a)\n",
    "print(result)"
   ]
  },
  {
   "cell_type": "markdown",
   "metadata": {},
   "source": [
    "## question 5"
   ]
  },
  {
   "cell_type": "raw",
   "metadata": {},
   "source": [
    "# Given a two Python list. Iterate both lists simultaneously such that list1 should display item in original order and list2 in reverse order\n",
    "\n",
    "list1 = [10, 20, 30, 40]\n",
    "list2 = [100, 200, 300, 400]\n",
    "\n",
    "\n",
    "Expected output:\n",
    "-----------------------------\n",
    "10 400\n",
    "20 300\n",
    "30 200\n",
    "40 100"
   ]
  },
  {
   "cell_type": "code",
   "execution_count": 16,
   "metadata": {},
   "outputs": [
    {
     "name": "stdout",
     "output_type": "stream",
     "text": [
      "10 400\n",
      "20 300\n",
      "30 200\n",
      "40 100\n"
     ]
    }
   ],
   "source": [
    "a = [10, 20, 30, 40]\n",
    "b = [100, 200, 300, 400]\n",
    "\n",
    "for i , j in zip(a , b[::-1]):\n",
    "    print(i , j)"
   ]
  },
  {
   "cell_type": "markdown",
   "metadata": {},
   "source": [
    "## question 6 "
   ]
  },
  {
   "cell_type": "raw",
   "metadata": {},
   "source": [
    "Remove empty strings from the list of strings\n",
    "\n",
    "\n",
    "list1 = [\"Mike\", \"\", \"Emma\", \"Kelly\", \"\", \"Brad\"]\n",
    "\n",
    "Expected output:\n",
    "----------------------\n",
    "\n",
    "[\"Mike\", \"Emma\", \"Kelly\", \"Brad\"]\n"
   ]
  },
  {
   "cell_type": "code",
   "execution_count": 19,
   "metadata": {},
   "outputs": [
    {
     "name": "stdout",
     "output_type": "stream",
     "text": [
      "['Mike', 'Emma', 'Kelly', 'Brad']\n"
     ]
    }
   ],
   "source": [
    "a = [\"Mike\", \"\", \"Emma\", \"Kelly\", \"\", \"Brad\"]\n",
    "a.remove(\"\")\n",
    "a.remove(\"\")\n",
    "print(a)"
   ]
  },
  {
   "cell_type": "code",
   "execution_count": 20,
   "metadata": {},
   "outputs": [
    {
     "name": "stdout",
     "output_type": "stream",
     "text": [
      "['Mike', 'Emma', 'Kelly', 'Brad']\n"
     ]
    }
   ],
   "source": [
    "a = [\"Mike\", \"\", \"Emma\", \"Kelly\", \"\", \"Brad\"]\n",
    "b = list(filter(None , a))\n",
    "print(b)"
   ]
  },
  {
   "cell_type": "markdown",
   "metadata": {},
   "source": [
    "#### Palindrome of a Number "
   ]
  },
  {
   "cell_type": "raw",
   "metadata": {},
   "source": [
    "palindrome means 123  -> 321\n",
    "                 121  -> 121"
   ]
  },
  {
   "cell_type": "code",
   "execution_count": 22,
   "metadata": {},
   "outputs": [
    {
     "name": "stdout",
     "output_type": "stream",
     "text": [
      "Enter a Number = 123\n",
      " It is not a palindrome Number \n"
     ]
    }
   ],
   "source": [
    "n = int(input(\"Enter a Number = \"))   # 121\n",
    "temp = n\n",
    "sum = 0\n",
    "while n > 0:\n",
    "    rev = n % 10      #      10)121(12  rev = 1 , 2, 1\n",
    "    sum = (sum * 10) + rev    # sum = 1 , 12 , 121\n",
    "    n = n // 10   # n = 12\n",
    "    \n",
    "if temp == sum:\n",
    "    print(\" It is a palindrome Number \")\n",
    "else:\n",
    "    print(\" It is not a palindrome Number \")"
   ]
  },
  {
   "cell_type": "markdown",
   "metadata": {},
   "source": [
    "#### Amstrong number"
   ]
  },
  {
   "cell_type": "raw",
   "metadata": {},
   "source": [
    "Amstrong means = 153 -> 1*1*1 + 5*5*5 + 3*3*3 = 1 + 125 + 27"
   ]
  },
  {
   "cell_type": "code",
   "execution_count": 23,
   "metadata": {},
   "outputs": [
    {
     "data": {
      "text/plain": [
       "153"
      ]
     },
     "execution_count": 23,
     "metadata": {},
     "output_type": "execute_result"
    }
   ],
   "source": [
    "1 + 125 + 27"
   ]
  },
  {
   "cell_type": "code",
   "execution_count": 25,
   "metadata": {},
   "outputs": [
    {
     "name": "stdout",
     "output_type": "stream",
     "text": [
      "Enter a Number = 145\n",
      " It is not a Amstrong Number \n"
     ]
    }
   ],
   "source": [
    "n = int(input(\"Enter a Number = \"))   # 153 , 15\n",
    "temp = n\n",
    "sum = 0\n",
    "while n > 0:\n",
    "    rev = n % 10    #  rev = 3 , 5 , 1 \n",
    "    sum = sum + (rev * rev * rev)   # sum = 27 ,\n",
    "    n = n // 10   \n",
    "    \n",
    "if temp == sum:\n",
    "    print(\" It is a Amstrong Number \")\n",
    "else:\n",
    "    print(\" It is not a Amstrong Number \")"
   ]
  },
  {
   "cell_type": "markdown",
   "metadata": {},
   "source": [
    "#### Perfect Number"
   ]
  },
  {
   "cell_type": "code",
   "execution_count": 27,
   "metadata": {},
   "outputs": [
    {
     "name": "stdout",
     "output_type": "stream",
     "text": [
      "Enter a Number = 7\n",
      " It is not a Perfect Number \n"
     ]
    }
   ],
   "source": [
    "# n = 6   -> 1 , 2 , 3 \n",
    "\n",
    "n = int(input(\"Enter a Number = \")) \n",
    "temp = n\n",
    "sum = 0\n",
    "for i in range(1,n):   # (1,6)\n",
    "    if n % i == 0:\n",
    "        sum = sum + i\n",
    "if temp == sum:\n",
    "    print(\" It is a Perfect Number \")\n",
    "else:\n",
    "    print(\" It is not a Perfect Number \")"
   ]
  },
  {
   "cell_type": "code",
   "execution_count": null,
   "metadata": {},
   "outputs": [],
   "source": []
  }
 ],
 "metadata": {
  "kernelspec": {
   "display_name": "Python 3",
   "language": "python",
   "name": "python3"
  },
  "language_info": {
   "codemirror_mode": {
    "name": "ipython",
    "version": 3
   },
   "file_extension": ".py",
   "mimetype": "text/x-python",
   "name": "python",
   "nbconvert_exporter": "python",
   "pygments_lexer": "ipython3",
   "version": "3.7.9"
  }
 },
 "nbformat": 4,
 "nbformat_minor": 4
}
