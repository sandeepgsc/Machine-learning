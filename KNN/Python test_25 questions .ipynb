{
 "cells": [
  {
   "cell_type": "raw",
   "metadata": {},
   "source": [
    "Q:1\n",
    "\n",
    "What does ~~~~~~5 evaluate to?\n",
    "\n",
    "a) +5\n",
    "b) -11\n",
    "c) +11\n",
    "d) -5"
   ]
  },
  {
   "cell_type": "raw",
   "metadata": {},
   "source": [
    "Q:2\n",
    "\n",
    "What is the result of cmp(3, 1)?\n",
    "\n",
    "a) 1\n",
    "b) 0\n",
    "c) True\n",
    "d) False\n",
    "\n",
    "\n",
    "\n"
   ]
  },
  {
   "cell_type": "code",
   "execution_count": 1,
   "metadata": {},
   "outputs": [
    {
     "ename": "NameError",
     "evalue": "name 'cmp' is not defined",
     "output_type": "error",
     "traceback": [
      "\u001b[1;31m---------------------------------------------------------------------------\u001b[0m",
      "\u001b[1;31mNameError\u001b[0m                                 Traceback (most recent call last)",
      "\u001b[1;32m<ipython-input-1-f28667a931ee>\u001b[0m in \u001b[0;36m<module>\u001b[1;34m\u001b[0m\n\u001b[1;32m----> 1\u001b[1;33m \u001b[0mcmp\u001b[0m\u001b[1;33m(\u001b[0m\u001b[1;36m3\u001b[0m\u001b[1;33m,\u001b[0m\u001b[1;36m1\u001b[0m\u001b[1;33m)\u001b[0m\u001b[1;33m\u001b[0m\u001b[1;33m\u001b[0m\u001b[0m\n\u001b[0m",
      "\u001b[1;31mNameError\u001b[0m: name 'cmp' is not defined"
     ]
    }
   ],
   "source": [
    "cmp(3,1)"
   ]
  },
  {
   "cell_type": "raw",
   "metadata": {},
   "source": [
    "Q:3\n",
    "\n",
    "Which of these about a set is not true?\n",
    "\n",
    "a) Mutable data type\n",
    "b) Allows duplicate values\n",
    "c) Data type with unordered values\n",
    "d) Immutable data type"
   ]
  },
  {
   "cell_type": "code",
   "execution_count": null,
   "metadata": {},
   "outputs": [],
   "source": [
    "b"
   ]
  },
  {
   "cell_type": "raw",
   "metadata": {},
   "source": [
    "Q : 4\n",
    "\n",
    "Create a null vector(list) of size 10 but the fifth value which is 1 ?"
   ]
  },
  {
   "cell_type": "code",
   "execution_count": 14,
   "metadata": {},
   "outputs": [
    {
     "data": {
      "text/plain": [
       "[1, 2, 3, 4, 1, 6, 7, 8, 9, 10]"
      ]
     },
     "execution_count": 14,
     "metadata": {},
     "output_type": "execute_result"
    }
   ],
   "source": [
    "a=[]\n",
    "for i in range(1,11):\n",
    "    a.append(i)\n",
    "a.remove(5)\n",
    "a.insert(4,1)\n",
    "a"
   ]
  },
  {
   "cell_type": "raw",
   "metadata": {},
   "source": [
    "Q : 5\n",
    "\n",
    "Create a vector(list) with values ranging from 10 to 49 ?"
   ]
  },
  {
   "cell_type": "code",
   "execution_count": 17,
   "metadata": {},
   "outputs": [
    {
     "name": "stdout",
     "output_type": "stream",
     "text": [
      "[10, 11, 12, 13, 14, 15, 16, 17, 18, 19, 20, 21, 22, 23, 24, 25, 26, 27, 28, 29, 30, 31, 32, 33, 34, 35, 36, 37, 38, 39, 40, 41, 42, 43, 44, 45, 46, 47, 48, 49] "
     ]
    }
   ],
   "source": [
    "a=[]\n",
    "for i in range(10,50):\n",
    "    a.append(i)\n",
    "print(a,end=\" \")"
   ]
  },
  {
   "cell_type": "raw",
   "metadata": {},
   "source": [
    "Q : 6\n",
    "    \n",
    "Reverse a vector(list)  (first element becomes last) ? "
   ]
  },
  {
   "cell_type": "code",
   "execution_count": 18,
   "metadata": {},
   "outputs": [
    {
     "name": "stdout",
     "output_type": "stream",
     "text": [
      "[1, 2, 3, 4, 5, 6, 7, 8, 9, 10] "
     ]
    },
    {
     "data": {
      "text/plain": [
       "[10, 9, 8, 7, 6, 5, 4, 3, 2, 1]"
      ]
     },
     "execution_count": 18,
     "metadata": {},
     "output_type": "execute_result"
    }
   ],
   "source": [
    "a=[]\n",
    "for i in range(1,11):\n",
    "    a.append(i)\n",
    "print(a,end=\" \")\n",
    "b=a[::-1]\n",
    "b"
   ]
  },
  {
   "cell_type": "raw",
   "metadata": {},
   "source": [
    "Q : 7\n",
    "    \n",
    "Create a 3x3 matrix with values ranging from 0 to 8  ?   "
   ]
  },
  {
   "cell_type": "raw",
   "metadata": {},
   "source": [
    "Q : 8\n",
    "\n",
    "Create a 10x10 array with random values and find the minimum and maximum values ? "
   ]
  },
  {
   "cell_type": "raw",
   "metadata": {},
   "source": [
    "Q : 9\n",
    "\n",
    "Reverse the complete string \n",
    "----------------------------\n",
    "\n",
    "a = \"i.love.programming.language.\"\n",
    "\n",
    "sample output = language programming love i \n"
   ]
  },
  {
   "cell_type": "code",
   "execution_count": 23,
   "metadata": {},
   "outputs": [],
   "source": [
    "import re"
   ]
  },
  {
   "cell_type": "code",
   "execution_count": 26,
   "metadata": {},
   "outputs": [
    {
     "data": {
      "text/plain": [
       "'i.love.programming.language.'"
      ]
     },
     "execution_count": 26,
     "metadata": {},
     "output_type": "execute_result"
    }
   ],
   "source": [
    "a = \"i.love.programming.language.\"\n",
    "a.split()\n",
    "re.sub(\".\",' ',a)\n",
    "a"
   ]
  },
  {
   "cell_type": "raw",
   "metadata": {},
   "source": [
    "Q : 10\n",
    "\n",
    "task = create an Data Frame that consist values in 6 * 6 manner : index values are ind and columns values are col \n",
    "---------------------------------------------------------------------------------------------------------------------\n",
    "\n",
    "ind=['row 1', 'row 2','row 3', 'row 4','row 5', 'row 6']\n",
    "col=['col 1', 'col 2','col 3', 'col 4', 'col 5', 'col 6']\n",
    "\n",
    "\n"
   ]
  },
  {
   "cell_type": "raw",
   "metadata": {},
   "source": [
    "Q : 11\n",
    "\n",
    "Task : Write a Python program to create a function that takes one argument, and that argument will be multiplied with an unknown given number.\n",
    "\n",
    "\n",
    "Sample Output =    \n",
    "Double the number of 15 = 30\n",
    "Triple the number of 15 = 45\n",
    "Quadruple the number of 15 = 60\n",
    "Quintuple the number 15 = 75"
   ]
  },
  {
   "cell_type": "raw",
   "metadata": {},
   "source": [
    "Q : 12\n",
    "\n",
    "Task : Write a Python program to find if a given string starts with a given character using Lambda. Go to the editor\n",
    "Sample Output:\n",
    "True\n",
    "False"
   ]
  },
  {
   "cell_type": "raw",
   "metadata": {},
   "source": [
    "Q : 13\n",
    "\n",
    "Task : Swap two Numbers without using 3rd variables \n",
    "\n"
   ]
  },
  {
   "cell_type": "raw",
   "metadata": {},
   "source": [
    "Q : 14 \n",
    "\n",
    "Task : Find whether the given number is palindrome or Not \n"
   ]
  },
  {
   "cell_type": "raw",
   "metadata": {},
   "source": [
    "Q : 15\n",
    "\n",
    "Task : Write a Python Programme to Find the smallest Divisor of an Integer\n"
   ]
  },
  {
   "cell_type": "raw",
   "metadata": {},
   "source": [
    "Q : 16\n",
    "\n",
    "Task : Write a Python Programme to find whether a given number is Prime number or not\n"
   ]
  },
  {
   "cell_type": "raw",
   "metadata": {},
   "source": [
    "Q : 17 \n",
    "\n",
    "Task : Write a Python Programme to calculate the number of Digits and Letters in a string "
   ]
  },
  {
   "cell_type": "raw",
   "metadata": {},
   "source": [
    "Q : 18\n",
    "\n",
    "Task :  write a python programme to prove whether the given number is perfect number or not  "
   ]
  },
  {
   "cell_type": "raw",
   "metadata": {},
   "source": [
    "Q : 19\n",
    "\n",
    "Task: write a python programme to prove whether the given number is Amstrong number or not "
   ]
  },
  {
   "cell_type": "raw",
   "metadata": {},
   "source": [
    "Q : 20\n",
    "\n",
    "Task : \n",
    "write a python programme to prove whether the given number is strong  number or not \n"
   ]
  },
  {
   "cell_type": "raw",
   "metadata": {},
   "source": [
    "Q : 21\n",
    "\n",
    "Task :\n",
    "\n",
    "Given an array of Integers , find the sum of its elements \n"
   ]
  },
  {
   "cell_type": "raw",
   "metadata": {},
   "source": [
    "Q : 22\n",
    "\n",
    "Task :\n",
    "\n",
    "Write a Python Programme to find the values Divisible by 5 and 3 from 15 to 50 "
   ]
  },
  {
   "cell_type": "raw",
   "metadata": {},
   "source": [
    "Q : 23\n",
    "\n",
    "Task :\n",
    "\n",
    "Print 2 Table from 2 * 1 = 2 till 2 * 10 = 20 "
   ]
  },
  {
   "cell_type": "raw",
   "metadata": {},
   "source": [
    "Q : 24\n",
    "\n",
    "Task : \n",
    "\n",
    "print all values from 1 to 101 and skip an element 56 from the list "
   ]
  },
  {
   "cell_type": "raw",
   "metadata": {},
   "source": [
    "Q : 25\n",
    "\n",
    "\n",
    "Task :\n",
    "\n",
    "Given an integer  n , perform the following conditional actions:\n",
    "\n",
    "If n is odd, print Weird\n",
    "If n is even and in the inclusive range of 2 to 5 , print Not Weird\n",
    "If n is even and in the inclusive range of 6 to 20 , print Weird\n",
    "If n is even and greater than 20 , print Not Weird\n",
    "\n",
    "\n",
    "\n",
    "Input Format\n",
    "-----------------\n",
    "A single line containing a positive integer, n.\n",
    "\n",
    "Constraints\n",
    "-------------\n",
    "\n",
    "1<=n<=100\n",
    "\n",
    "Output Format\n",
    "----------------\n",
    "\n",
    "Print Weird if the number is weird. Otherwise, print Not Weird.\n",
    "\n",
    "Sample Input 0\n",
    "----------------\n",
    "\n",
    "3\n",
    "\n",
    "Sample Output 0\n",
    "-----------------\n",
    "\n",
    "Weird\n",
    "\n",
    "\n",
    "Explanation 0\n",
    "---------------------\n",
    "\n",
    "n=3  is odd and odd numbers are weird, so print Weird.\n",
    "\n",
    "Sample Input 1\n",
    "-------------------------\n",
    "24\n",
    "\n",
    "Sample Output 1\n",
    "-------------------------\n",
    "\n",
    "Not Weird\n",
    "\n",
    "\n",
    "Explanation 1\n",
    "---------------------------\n",
    "\n",
    "n > 20  and n  is even, so it is not weird.\n"
   ]
  },
  {
   "cell_type": "code",
   "execution_count": null,
   "metadata": {},
   "outputs": [],
   "source": []
  }
 ],
 "metadata": {
  "kernelspec": {
   "display_name": "Python 3",
   "language": "python",
   "name": "python3"
  },
  "language_info": {
   "codemirror_mode": {
    "name": "ipython",
    "version": 3
   },
   "file_extension": ".py",
   "mimetype": "text/x-python",
   "name": "python",
   "nbconvert_exporter": "python",
   "pygments_lexer": "ipython3",
   "version": "3.8.8"
  }
 },
 "nbformat": 4,
 "nbformat_minor": 4
}
